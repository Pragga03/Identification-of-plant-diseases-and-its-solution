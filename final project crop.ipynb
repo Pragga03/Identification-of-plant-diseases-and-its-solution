{
 "cells": [
  {
   "cell_type": "code",
   "execution_count": 1,
   "id": "fb794737",
   "metadata": {
    "scrolled": true
   },
   "outputs": [
    {
     "name": "stdout",
     "output_type": "stream",
     "text": [
      "Select the symptom or symptoms from the list below by entering the corresponding number or numbers (for multiple symptoms) separated by commas:\n",
      "1: yellow leaves\n",
      "2: brown spots\n",
      "3: wilting\n",
      "4: white powdery spots\n",
      "5: black moldy spots\n",
      "6: less flowering\n",
      "7: shortening of leaves\n",
      "8: shortening of crop\n",
      "9: rotting of roots\n",
      "10: leaf margin curling down\n",
      "11: slow growth\n",
      "12: others\n",
      "Enter your choices: 3,5\n",
      "\n",
      "Recognized Symptoms and Suggested Cures:\n",
      "Symptom: wilting\n",
      "Disease: Fusarium Wilt\n",
      "Cure: Use resistant varieties and rotate crops\n",
      "\n",
      "Symptom: black moldy spots\n",
      "Disease: Black Mold\n",
      "Cure: Remove affected fruits and improve storage conditions\n",
      "\n"
     ]
    }
   ],
   "source": [
    "\n",
    "disease_database = {\n",
    "    1: {'symptom': 'yellow leaves', 'disease': 'Nitrogen Deficiency', 'cure': 'Apply nitrogen-rich fertilizers'},\n",
    "    2: {'symptom': 'brown spots', 'disease': 'Leaf Spot', 'cure': 'Use fungicides and remove affected leaves'},\n",
    "    3: {'symptom': 'wilting', 'disease': 'Fusarium Wilt', 'cure': 'Use resistant varieties and rotate crops'},\n",
    "    4: {'symptom': 'white powdery spots', 'disease': 'Powdery Mildew', 'cure': 'Apply fungicides and ensure proper air circulation'},\n",
    "    5: {'symptom': 'black moldy spots', 'disease': 'Black Mold', 'cure': 'Remove affected fruits and improve storage conditions'},\n",
    "    6: {'symptom': 'less flowering', 'disease': 'Phosphorus Deficiency', 'cure': 'Apply phosphorus-rich fertilizers'},\n",
    "    7: {'symptom': 'shortening of leaves', 'disease': 'Zinc Deficiency', 'cure': 'Apply zinc-based fertilizers'},\n",
    "    8: {'symptom': 'shortening of crop', 'disease': 'Boron Deficiency', 'cure': 'Apply boron-based fertilizers'},\n",
    "    9: {'symptom': 'rotting of roots', 'disease': 'Root Rot', 'cure': 'Improve drainage and apply appropriate fungicides'},\n",
    "    10: {'symptom': 'leaf margin curling down', 'disease': 'Potassium Deficiency', 'cure': 'Apply potassium-rich fertilizers'},\n",
    "    11: {'symptom': 'slow growth', 'disease': 'General Nutrient Deficiency', 'cure': 'Apply balanced fertilizers'},\n",
    "    12: {'symptom': 'others', 'disease': 'Unknown', 'cure': 'Consult with the nearest agricultural officer'}\n",
    "}\n",
    "\n",
    "def display_symptoms():\n",
    "    print(\"Select the symptom or symptoms from the list below by entering the corresponding number or numbers (for multiple symptoms) separated by commas:\")\n",
    "    for option, info in disease_database.items():\n",
    "        print(f\"{option}: {info['symptom']}\")\n",
    "\n",
    "def diagnose(symptoms):\n",
    "    diseases_found = {}\n",
    "    \n",
    "    for symptom in symptoms:\n",
    "        if symptom in disease_database:\n",
    "            info = disease_database[symptom]\n",
    "            diseases_found[info['symptom']] = {'disease': info['disease'], 'cure': info['cure']}\n",
    "    \n",
    "    return diseases_found\n",
    "\n",
    "def main():\n",
    "    display_symptoms()\n",
    "    input_options = input(\"Enter your choices: \")\n",
    "    selected_options = [int(option.strip()) for option in input_options.split(',')]\n",
    "\n",
    "    diseases = diagnose(selected_options)\n",
    "\n",
    "    if diseases:\n",
    "        print(\"\\nRecognized Symptoms and Suggested Cures:\")\n",
    "        for symptom, info in diseases.items():\n",
    "            print(f\"Symptom: {symptom}\")\n",
    "            print(f\"Disease: {info['disease']}\")\n",
    "            print(f\"Cure: {info['cure']}\\n\")\n",
    "    else:\n",
    "        print(\"\\nNo recognized symptoms found.\")\n",
    "    \n",
    "    \n",
    "if __name__ == \"__main__\":\n",
    "    main()"
   ]
  },
  {
   "cell_type": "code",
   "execution_count": null,
   "id": "68a4cd43",
   "metadata": {},
   "outputs": [],
   "source": []
  },
  {
   "cell_type": "code",
   "execution_count": null,
   "id": "f12a2f0d",
   "metadata": {},
   "outputs": [],
   "source": []
  }
 ],
 "metadata": {
  "kernelspec": {
   "display_name": "Python 3 (ipykernel)",
   "language": "python",
   "name": "python3"
  },
  "language_info": {
   "codemirror_mode": {
    "name": "ipython",
    "version": 3
   },
   "file_extension": ".py",
   "mimetype": "text/x-python",
   "name": "python",
   "nbconvert_exporter": "python",
   "pygments_lexer": "ipython3",
   "version": "3.11.7"
  }
 },
 "nbformat": 4,
 "nbformat_minor": 5
}
